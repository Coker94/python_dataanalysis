{
 "cells": [
  {
   "cell_type": "markdown",
   "id": "f5cfdee3",
   "metadata": {},
   "source": [
    "# 올림픽 120년 역사: 선수들과 결과"
   ]
  },
  {
   "cell_type": "markdown",
   "id": "259529fc",
   "metadata": {},
   "source": [
    "## 데이터셋"
   ]
  },
  {
   "cell_type": "markdown",
   "id": "af485c01",
   "metadata": {},
   "source": [
    "이 데이터셋은 1896년 아테네부터 2016년 리우까지의 현대 올림픽 경기에 관한 역사적 자료입니다. 2018년 5월에 www.sports-reference.com에서 데이터를 수집했습니다."
   ]
  },
  {
   "cell_type": "markdown",
   "id": "03d2f9e7",
   "metadata": {},
   "source": [
    "파일 athlete_events.csv는 271,116개의 행과 15개의 열로 구성되어 있습니다. 각 행은 개별 올림픽 이벤트에 참가하는 개별 선수(athlete-events)를 나타냅니다."
   ]
  },
  {
   "cell_type": "markdown",
   "id": "8b0168b5",
   "metadata": {},
   "source": [
    "1. ID - Unique number for each athlete (아이디 )\n",
    "2. Name - Athlete's name (선수  이름 )\n",
    "3. Sex - M or F (성별) \n",
    "4. Age - Integer (정수) \n",
    "5. Height - In centimeters (키)\n",
    "6. Weight - In kilograms (몸무게) \n",
    "7. Team - Team name (팀이름) \n",
    "8. NOC - National Olympic Committee 3-letter code (국가 올림픽 위원회 3자리 코드)\n",
    "9. Games - Year and season (년도  및 계절)\n",
    "10. Year - Integer (정수)\n",
    "11. Season - Summer or Winter (여름 및 겨울)\n",
    "12. City - Host city (개최 도시) \n",
    "13. Sport - Sport (스포츠)\n",
    "14. Event - Event (이벤트) \n",
    "15. Medal - Gold, Silver, Bronze, or NA (금,은, 동메달) "
   ]
  },
  {
   "cell_type": "markdown",
   "id": "c43acf21",
   "metadata": {},
   "source": [
    "파일 noc_regions.csv는 230개의 행과 3개의 열로 구성되어 있습니다. "
   ]
  },
  {
   "cell_type": "markdown",
   "id": "f200e6b5",
   "metadata": {},
   "source": [
    "1. NOC : 국가 올림픽 위원회 3자리 코드 \n",
    "2. region:나라\n",
    "3. notes : 추가 정보"
   ]
  },
  {
   "cell_type": "markdown",
   "id": "04869b76",
   "metadata": {},
   "source": [
    "## 데이터 준비 "
   ]
  },
  {
   "cell_type": "code",
   "execution_count": 12,
   "id": "af0ee8b7",
   "metadata": {},
   "outputs": [],
   "source": [
    "import pandas as pd \n",
    "import matplotlib.pyplot as plt \n",
    "import koreanize_matplotlib\n",
    "import seaborn as sns \n",
    "import numpy as np"
   ]
  },
  {
   "cell_type": "code",
   "execution_count": 13,
   "id": "bc4af724",
   "metadata": {},
   "outputs": [],
   "source": [
    "# athlete_events.csv\n"
   ]
  },
  {
   "cell_type": "code",
   "execution_count": 15,
   "id": "0ffb20be",
   "metadata": {},
   "outputs": [],
   "source": [
    "#noc_regions.csv \n"
   ]
  },
  {
   "cell_type": "code",
   "execution_count": 46,
   "id": "2d4494a5",
   "metadata": {},
   "outputs": [],
   "source": [
    "# athlete_events\n"
   ]
  },
  {
   "cell_type": "code",
   "execution_count": 1,
   "id": "2383fd65",
   "metadata": {},
   "outputs": [],
   "source": [
    "#noc_regions"
   ]
  },
  {
   "cell_type": "markdown",
   "id": "e52f2235",
   "metadata": {},
   "source": [
    "# 데이터 전처리"
   ]
  },
  {
   "cell_type": "code",
   "execution_count": 20,
   "id": "fd975bf5",
   "metadata": {},
   "outputs": [],
   "source": [
    "# Medal 데이터에는 메달을 못 받은 선수들이 있기 때문에, fillna로 'No Medal'채움 \n"
   ]
  },
  {
   "cell_type": "code",
   "execution_count": 47,
   "id": "57cdc7ce",
   "metadata": {},
   "outputs": [],
   "source": [
    "# athlete_events.csv에서 팀의 지역을 얻기 위해 NOC 값을 기준으로 athlete events 데이터셋과 region 데이터셋을 병합\n"
   ]
  },
  {
   "cell_type": "code",
   "execution_count": 25,
   "id": "70573b1f",
   "metadata": {},
   "outputs": [
    {
     "data": {
      "text/html": [
       "<div>\n",
       "<style scoped>\n",
       "    .dataframe tbody tr th:only-of-type {\n",
       "        vertical-align: middle;\n",
       "    }\n",
       "\n",
       "    .dataframe tbody tr th {\n",
       "        vertical-align: top;\n",
       "    }\n",
       "\n",
       "    .dataframe thead th {\n",
       "        text-align: right;\n",
       "    }\n",
       "</style>\n",
       "<table border=\"1\" class=\"dataframe\">\n",
       "  <thead>\n",
       "    <tr style=\"text-align: right;\">\n",
       "      <th></th>\n",
       "      <th>ID</th>\n",
       "      <th>Name</th>\n",
       "      <th>Sex</th>\n",
       "      <th>Age</th>\n",
       "      <th>Height</th>\n",
       "      <th>Weight</th>\n",
       "      <th>Team</th>\n",
       "      <th>NOC</th>\n",
       "      <th>Games</th>\n",
       "      <th>Year</th>\n",
       "      <th>Season</th>\n",
       "      <th>City</th>\n",
       "      <th>Sport</th>\n",
       "      <th>Event</th>\n",
       "      <th>Medal</th>\n",
       "      <th>region</th>\n",
       "      <th>notes</th>\n",
       "    </tr>\n",
       "  </thead>\n",
       "  <tbody>\n",
       "    <tr>\n",
       "      <th>0</th>\n",
       "      <td>1</td>\n",
       "      <td>A Dijiang</td>\n",
       "      <td>M</td>\n",
       "      <td>24.0</td>\n",
       "      <td>180.0</td>\n",
       "      <td>80.0</td>\n",
       "      <td>China</td>\n",
       "      <td>CHN</td>\n",
       "      <td>1992 Summer</td>\n",
       "      <td>1992</td>\n",
       "      <td>Summer</td>\n",
       "      <td>Barcelona</td>\n",
       "      <td>Basketball</td>\n",
       "      <td>Basketball Men's Basketball</td>\n",
       "      <td>No Medal</td>\n",
       "      <td>China</td>\n",
       "      <td>NaN</td>\n",
       "    </tr>\n",
       "    <tr>\n",
       "      <th>1</th>\n",
       "      <td>2</td>\n",
       "      <td>A Lamusi</td>\n",
       "      <td>M</td>\n",
       "      <td>23.0</td>\n",
       "      <td>170.0</td>\n",
       "      <td>60.0</td>\n",
       "      <td>China</td>\n",
       "      <td>CHN</td>\n",
       "      <td>2012 Summer</td>\n",
       "      <td>2012</td>\n",
       "      <td>Summer</td>\n",
       "      <td>London</td>\n",
       "      <td>Judo</td>\n",
       "      <td>Judo Men's Extra-Lightweight</td>\n",
       "      <td>No Medal</td>\n",
       "      <td>China</td>\n",
       "      <td>NaN</td>\n",
       "    </tr>\n",
       "    <tr>\n",
       "      <th>2</th>\n",
       "      <td>602</td>\n",
       "      <td>Abudoureheman</td>\n",
       "      <td>M</td>\n",
       "      <td>22.0</td>\n",
       "      <td>182.0</td>\n",
       "      <td>75.0</td>\n",
       "      <td>China</td>\n",
       "      <td>CHN</td>\n",
       "      <td>2000 Summer</td>\n",
       "      <td>2000</td>\n",
       "      <td>Summer</td>\n",
       "      <td>Sydney</td>\n",
       "      <td>Boxing</td>\n",
       "      <td>Boxing Men's Middleweight</td>\n",
       "      <td>No Medal</td>\n",
       "      <td>China</td>\n",
       "      <td>NaN</td>\n",
       "    </tr>\n",
       "    <tr>\n",
       "      <th>3</th>\n",
       "      <td>1463</td>\n",
       "      <td>Ai Linuer</td>\n",
       "      <td>M</td>\n",
       "      <td>25.0</td>\n",
       "      <td>160.0</td>\n",
       "      <td>62.0</td>\n",
       "      <td>China</td>\n",
       "      <td>CHN</td>\n",
       "      <td>2004 Summer</td>\n",
       "      <td>2004</td>\n",
       "      <td>Summer</td>\n",
       "      <td>Athina</td>\n",
       "      <td>Wrestling</td>\n",
       "      <td>Wrestling Men's Lightweight, Greco-Roman</td>\n",
       "      <td>No Medal</td>\n",
       "      <td>China</td>\n",
       "      <td>NaN</td>\n",
       "    </tr>\n",
       "    <tr>\n",
       "      <th>4</th>\n",
       "      <td>1464</td>\n",
       "      <td>Ai Yanhan</td>\n",
       "      <td>F</td>\n",
       "      <td>14.0</td>\n",
       "      <td>168.0</td>\n",
       "      <td>54.0</td>\n",
       "      <td>China</td>\n",
       "      <td>CHN</td>\n",
       "      <td>2016 Summer</td>\n",
       "      <td>2016</td>\n",
       "      <td>Summer</td>\n",
       "      <td>Rio de Janeiro</td>\n",
       "      <td>Swimming</td>\n",
       "      <td>Swimming Women's 200 metres Freestyle</td>\n",
       "      <td>No Medal</td>\n",
       "      <td>China</td>\n",
       "      <td>NaN</td>\n",
       "    </tr>\n",
       "  </tbody>\n",
       "</table>\n",
       "</div>"
      ],
      "text/plain": [
       "     ID           Name Sex   Age  Height  Weight   Team  NOC        Games  \\\n",
       "0     1      A Dijiang   M  24.0   180.0    80.0  China  CHN  1992 Summer   \n",
       "1     2       A Lamusi   M  23.0   170.0    60.0  China  CHN  2012 Summer   \n",
       "2   602  Abudoureheman   M  22.0   182.0    75.0  China  CHN  2000 Summer   \n",
       "3  1463      Ai Linuer   M  25.0   160.0    62.0  China  CHN  2004 Summer   \n",
       "4  1464      Ai Yanhan   F  14.0   168.0    54.0  China  CHN  2016 Summer   \n",
       "\n",
       "   Year  Season            City       Sport  \\\n",
       "0  1992  Summer       Barcelona  Basketball   \n",
       "1  2012  Summer          London        Judo   \n",
       "2  2000  Summer          Sydney      Boxing   \n",
       "3  2004  Summer          Athina   Wrestling   \n",
       "4  2016  Summer  Rio de Janeiro    Swimming   \n",
       "\n",
       "                                      Event     Medal region notes  \n",
       "0               Basketball Men's Basketball  No Medal  China   NaN  \n",
       "1              Judo Men's Extra-Lightweight  No Medal  China   NaN  \n",
       "2                 Boxing Men's Middleweight  No Medal  China   NaN  \n",
       "3  Wrestling Men's Lightweight, Greco-Roman  No Medal  China   NaN  \n",
       "4     Swimming Women's 200 metres Freestyle  No Medal  China   NaN  "
      ]
     },
     "execution_count": 25,
     "metadata": {},
     "output_type": "execute_result"
    }
   ],
   "source": [
    "#ae, nc에 있는 \"NOC\"으로 합치기 \n"
   ]
  },
  {
   "cell_type": "code",
   "execution_count": 48,
   "id": "b7a97e00",
   "metadata": {},
   "outputs": [],
   "source": [
    "# 여름하고 겨울관련 데이터 나누기 \n"
   ]
  },
  {
   "cell_type": "markdown",
   "id": "c3b62eac",
   "metadata": {},
   "source": [
    "# 각 국가별로 메달 수를 집계와 메달 수 상위 10개 국가를 막대 그래프로 시각화하시오."
   ]
  },
  {
   "cell_type": "code",
   "execution_count": 49,
   "id": "d0ea10f2",
   "metadata": {},
   "outputs": [],
   "source": [
    "# 여름 \n"
   ]
  },
  {
   "cell_type": "code",
   "execution_count": 50,
   "id": "4f21a687",
   "metadata": {},
   "outputs": [],
   "source": [
    "# 겨울"
   ]
  },
  {
   "cell_type": "markdown",
   "id": "55ea8f60",
   "metadata": {},
   "source": [
    "# 올림픽 개최 연도별로 남녀 참가자 수의 변화를 보여주는 선 그래프를 그리시오."
   ]
  },
  {
   "cell_type": "code",
   "execution_count": 51,
   "id": "ca0de413",
   "metadata": {},
   "outputs": [],
   "source": [
    "# 여름 "
   ]
  },
  {
   "cell_type": "code",
   "execution_count": 52,
   "id": "78810f66",
   "metadata": {},
   "outputs": [],
   "source": [
    "# 겨울 "
   ]
  },
  {
   "cell_type": "markdown",
   "id": "25168d4a",
   "metadata": {},
   "source": [
    "# 특정 종목(예: 수영)에서의 성별 메달 분포를 분석 그리고 이를 시각화하여 성별 메달 분포를 막대 그래프로 나타내시오."
   ]
  },
  {
   "cell_type": "code",
   "execution_count": null,
   "id": "3f2252ba",
   "metadata": {},
   "outputs": [],
   "source": []
  },
  {
   "cell_type": "markdown",
   "id": "f8985524",
   "metadata": {},
   "source": [
    "# 한국 및 도시 \"Seoul\" 관련 데이터를 불러와 Top 10 스포츠별 메달 수를 스택 차트로 나타내세요."
   ]
  },
  {
   "cell_type": "code",
   "execution_count": 53,
   "id": "2e9f81ef",
   "metadata": {},
   "outputs": [],
   "source": [
    "# region은 South Kroea, City는 Seoul로\n",
    "# 'No Medal'포함하지 않아야 함 \n"
   ]
  },
  {
   "cell_type": "code",
   "execution_count": 54,
   "id": "c33fcd42",
   "metadata": {},
   "outputs": [],
   "source": [
    "#index는 Sport, columns는 Medal \n",
    "#sort_values는 medal.columns.tolist()로"
   ]
  },
  {
   "cell_type": "code",
   "execution_count": 55,
   "id": "8881a49a",
   "metadata": {},
   "outputs": [],
   "source": [
    "#스택차트 "
   ]
  },
  {
   "cell_type": "code",
   "execution_count": null,
   "id": "95c0b206",
   "metadata": {},
   "outputs": [],
   "source": []
  }
 ],
 "metadata": {
  "kernelspec": {
   "display_name": "Python 3 (ipykernel)",
   "language": "python",
   "name": "python3"
  },
  "language_info": {
   "codemirror_mode": {
    "name": "ipython",
    "version": 3
   },
   "file_extension": ".py",
   "mimetype": "text/x-python",
   "name": "python",
   "nbconvert_exporter": "python",
   "pygments_lexer": "ipython3",
   "version": "3.10.11"
  }
 },
 "nbformat": 4,
 "nbformat_minor": 5
}
